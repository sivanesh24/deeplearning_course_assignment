{
  "nbformat": 4,
  "nbformat_minor": 0,
  "metadata": {
    "colab": {
      "name": "python_assignment_1.ipynb",
      "provenance": []
    },
    "kernelspec": {
      "name": "python3",
      "display_name": "Python 3"
    }
  },
  "cells": [
    {
      "cell_type": "markdown",
      "metadata": {
        "id": "gyH6RtcCRFq3"
      },
      "source": [
        "# **1. Write a program which will find all such numbers which are divisible by 7 but are not a multiple of 5, between 2000 and 3200 (both included). The numbers obtained should be printed**\n"
      ]
    },
    {
      "cell_type": "code",
      "metadata": {
        "colab": {
          "base_uri": "https://localhost:8080/"
        },
        "id": "NnH4DVsZQJ8R",
        "outputId": "88f304d6-d131-4669-8aeb-2d44de2bccc5"
      },
      "source": [
        "s =str()\n",
        "for i in range(2000,3201):\n",
        "  if (i%7 == 0) and (i%5 != 0):\n",
        "    s = s + \",\" + str(i)\n",
        "print(s[1:])"
      ],
      "execution_count": 2,
      "outputs": [
        {
          "output_type": "stream",
          "text": [
            "2002,2009,2016,2023,2037,2044,2051,2058,2072,2079,2086,2093,2107,2114,2121,2128,2142,2149,2156,2163,2177,2184,2191,2198,2212,2219,2226,2233,2247,2254,2261,2268,2282,2289,2296,2303,2317,2324,2331,2338,2352,2359,2366,2373,2387,2394,2401,2408,2422,2429,2436,2443,2457,2464,2471,2478,2492,2499,2506,2513,2527,2534,2541,2548,2562,2569,2576,2583,2597,2604,2611,2618,2632,2639,2646,2653,2667,2674,2681,2688,2702,2709,2716,2723,2737,2744,2751,2758,2772,2779,2786,2793,2807,2814,2821,2828,2842,2849,2856,2863,2877,2884,2891,2898,2912,2919,2926,2933,2947,2954,2961,2968,2982,2989,2996,3003,3017,3024,3031,3038,3052,3059,3066,3073,3087,3094,3101,3108,3122,3129,3136,3143,3157,3164,3171,3178,3192,3199\n"
          ],
          "name": "stdout"
        }
      ]
    },
    {
      "cell_type": "markdown",
      "metadata": {
        "id": "IcoVnXMYRiqP"
      },
      "source": [
        "# **2. Write a Python program to accept the user's first and last name and then getting them printed in the the reverse order with a space between first name and last name**"
      ]
    },
    {
      "cell_type": "code",
      "metadata": {
        "colab": {
          "base_uri": "https://localhost:8080/"
        },
        "id": "klv6y1J6R6lb",
        "outputId": "609fd143-f49e-4533-d7de-aa8c84bc5fd2"
      },
      "source": [
        "first = input()\n",
        "second = input()\n",
        "name = first + \" \" + second\n",
        "rev = name[::-1]\n",
        "print(rev)"
      ],
      "execution_count": 5,
      "outputs": [
        {
          "output_type": "stream",
          "text": [
            "siva\n",
            "nesh\n",
            "hsen avis\n"
          ],
          "name": "stdout"
        }
      ]
    },
    {
      "cell_type": "markdown",
      "metadata": {
        "id": "dNSmNyrWUOOL"
      },
      "source": [
        "# **3. Write a Python program to find the volume of a sphere with diameter 12 cm.**"
      ]
    },
    {
      "cell_type": "code",
      "metadata": {
        "colab": {
          "base_uri": "https://localhost:8080/"
        },
        "id": "hDwVAm_5USN4",
        "outputId": "38bac1cb-6854-46ba-d5af-42bb14e10d26"
      },
      "source": [
        "import math \n",
        "r = 12\n",
        "v1 = (r)**3\n",
        "v2 = 4/3\n",
        "v3 = math.pi\n",
        "v = v1 * v2 *v3\n",
        "print(v)"
      ],
      "execution_count": 8,
      "outputs": [
        {
          "output_type": "stream",
          "text": [
            "7238.229473870883\n"
          ],
          "name": "stdout"
        }
      ]
    }
  ]
}