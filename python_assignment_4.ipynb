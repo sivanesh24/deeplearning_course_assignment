{
  "nbformat": 4,
  "nbformat_minor": 0,
  "metadata": {
    "colab": {
      "name": "python_assignment_4.ipynb",
      "provenance": [],
      "collapsed_sections": []
    },
    "kernelspec": {
      "name": "python3",
      "display_name": "Python 3"
    }
  },
  "cells": [
    {
      "cell_type": "markdown",
      "metadata": {
        "id": "vG9YgS3U4bzV"
      },
      "source": [
        "# **1.1 Write a Python Program(with class concepts) to find the area of the triangle using the below formula.**\n"
      ]
    },
    {
      "cell_type": "code",
      "metadata": {
        "id": "kCFH5Q2Y4Xm2"
      },
      "source": [
        "class triangle():\n",
        "  def __init__(self,length):\n",
        "    self.length = length\n",
        "\n",
        "class area_triangle(triangle):\n",
        "  def __init__(self,length,a,b,c):\n",
        "    super().__init__(length)\n",
        "    self.a = a\n",
        "    self.b = b\n",
        "    self.c = c\n",
        "  def output(self):\n",
        "    self.out1 = (self.length - self.a) * (self.length - self.b ) *(self.length - self.c)\n",
        "    self.out2 = self.length * self.out1 \n",
        "    return (self.out2)**0.5"
      ],
      "execution_count": null,
      "outputs": []
    },
    {
      "cell_type": "code",
      "metadata": {
        "colab": {
          "base_uri": "https://localhost:8080/"
        },
        "id": "BtsvMgI76WMk",
        "outputId": "8e2eed56-4b05-4b70-bd59-157787b9bfd3"
      },
      "source": [
        "area = area_triangle(100,10,20,30)\n",
        "area.output()\n"
      ],
      "execution_count": null,
      "outputs": [
        {
          "output_type": "execute_result",
          "data": {
            "text/plain": [
              "7099.29573971954"
            ]
          },
          "metadata": {
            "tags": []
          },
          "execution_count": 77
        }
      ]
    },
    {
      "cell_type": "markdown",
      "metadata": {
        "id": "t7xGoFUDY6yd"
      },
      "source": [
        "# **1.2 Write a function filter_long_words() that takes a list of words and an integer n and returns the list of words that are longer than n.**"
      ]
    },
    {
      "cell_type": "code",
      "metadata": {
        "colab": {
          "base_uri": "https://localhost:8080/"
        },
        "id": "uM9PMMYkZAPe",
        "outputId": "20236ca6-9c0a-4a88-8290-772d675739e6"
      },
      "source": [
        "def filter_long_words(l,n):\n",
        "  for i in l:\n",
        "    if len(i)<=n:\n",
        "      l.remove(i)\n",
        "  return l\n",
        "\n",
        "l = ['deeplearning','python','sql','machinelearning','nlp']\n",
        "n = int(input())\n",
        "print(filter_long_words(l,n))"
      ],
      "execution_count": null,
      "outputs": [
        {
          "output_type": "stream",
          "text": [
            "4\n",
            "['deeplearning', 'python', 'machinelearning']\n"
          ],
          "name": "stdout"
        }
      ]
    },
    {
      "cell_type": "markdown",
      "metadata": {
        "id": "ATj_AmfXFqJB"
      },
      "source": [
        "# **2.1 Write a Python program using function concept that maps list of words into a list of integers representing the lengths of the corresponding words.**"
      ]
    },
    {
      "cell_type": "code",
      "metadata": {
        "colab": {
          "base_uri": "https://localhost:8080/"
        },
        "id": "hKpA2PS2Fwl4",
        "outputId": "eb6302fa-e397-491d-9688-ef2b9eaaeb5a"
      },
      "source": [
        "def converts(l):\r\n",
        "  output = []\r\n",
        "  for i in l:\r\n",
        "    output.append(len(i))\r\n",
        "  return output\r\n",
        "\r\n",
        "n = int(input())\r\n",
        "l =[]\r\n",
        "for i in range(n):\r\n",
        "  x =input()\r\n",
        "  l.append(x)\r\n",
        "out = converts(l)\r\n",
        "print(l)\r\n",
        "print(out)"
      ],
      "execution_count": 3,
      "outputs": [
        {
          "output_type": "stream",
          "text": [
            "3\n",
            "ab\n",
            "cde\n",
            "erty\n",
            "['ab', 'cde', 'erty']\n",
            "[2, 3, 4]\n"
          ],
          "name": "stdout"
        }
      ]
    },
    {
      "cell_type": "markdown",
      "metadata": {
        "id": "df8R9KKSXdia"
      },
      "source": [
        "# **2.2 Write a Python function which takes a character (i.e. a string of length 1) and returns True if it is a vowel, False otherwise.**"
      ]
    },
    {
      "cell_type": "code",
      "metadata": {
        "colab": {
          "base_uri": "https://localhost:8080/"
        },
        "id": "ffmIeT3X6bdM",
        "outputId": "05585228-c855-48c0-de95-52fbf7e59fae"
      },
      "source": [
        "def valid_vowel(i):\n",
        "  vowels = ['A','E','I','O','U']\n",
        "  if i in vowels:\n",
        "    return True\n",
        "  else:\n",
        "    return False\n",
        "\n",
        "i = input()\n",
        "valid_vowel(i.upper())"
      ],
      "execution_count": null,
      "outputs": [
        {
          "output_type": "stream",
          "text": [
            "e\n"
          ],
          "name": "stdout"
        },
        {
          "output_type": "execute_result",
          "data": {
            "text/plain": [
              "True"
            ]
          },
          "metadata": {
            "tags": []
          },
          "execution_count": 79
        }
      ]
    }
  ]
}